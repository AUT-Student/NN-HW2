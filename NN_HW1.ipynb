{
  "nbformat": 4,
  "nbformat_minor": 0,
  "metadata": {
    "colab": {
      "name": "NN-HW1.ipynb",
      "provenance": [],
      "collapsed_sections": [],
      "authorship_tag": "ABX9TyP/t4M+kBpJm81hLnpqi27e",
      "include_colab_link": true
    },
    "kernelspec": {
      "name": "python3",
      "display_name": "Python 3"
    },
    "language_info": {
      "name": "python"
    }
  },
  "cells": [
    {
      "cell_type": "markdown",
      "metadata": {
        "id": "view-in-github",
        "colab_type": "text"
      },
      "source": [
        "<a href=\"https://colab.research.google.com/github/AUT-Student/NN-HW2/blob/main/NN_HW1.ipynb\" target=\"_parent\"><img src=\"https://colab.research.google.com/assets/colab-badge.svg\" alt=\"Open In Colab\"/></a>"
      ]
    },
    {
      "cell_type": "markdown",
      "source": [
        "# Libraries"
      ],
      "metadata": {
        "id": "wMAlNHcELYL7"
      }
    },
    {
      "cell_type": "code",
      "execution_count": 1,
      "metadata": {
        "id": "sWxv9IqxKyHk"
      },
      "outputs": [],
      "source": [
        "import tensorflow as tf\n",
        "import numpy as np\n",
        "import pandas as pd\n",
        "import matplotlib.pyplot as plt\n",
        "import math"
      ]
    },
    {
      "cell_type": "markdown",
      "source": [
        "# Create Dataset"
      ],
      "metadata": {
        "id": "rH_gdS_cLRVK"
      }
    },
    {
      "cell_type": "code",
      "source": [
        "cov = [[1, 0], [0, 1]]\n",
        "\n",
        "mean_0 = [0,0]\n",
        "mean_1 = [8,8]\n",
        "\n",
        "number_data_per_class = 5000"
      ],
      "metadata": {
        "id": "DO0HoD9ULRE7"
      },
      "execution_count": 2,
      "outputs": []
    },
    {
      "cell_type": "code",
      "source": [
        "dataset_0 = pd.DataFrame(np.random.multivariate_normal(mean_0, cov, number_data_per_class), columns=[\"X1\", \"X2\"])\n",
        "dataset_0[\"Y\"] = [-1] * number_data_per_class \n",
        "\n",
        "dataset_1 = pd.DataFrame(np.random.multivariate_normal(mean_1, cov, number_data_per_class), columns=[\"X1\", \"X2\"])\n",
        "dataset_1[\"Y\"] = [+1] * number_data_per_class"
      ],
      "metadata": {
        "id": "7l-8nAtAMAwK"
      },
      "execution_count": 3,
      "outputs": []
    },
    {
      "cell_type": "code",
      "source": [
        "plt.scatter(dataset_0[\"X1\"], dataset_0[\"X2\"], label=\"Class -\", c=\"red\")\n",
        "plt.scatter(dataset_1[\"X1\"], dataset_1[\"X2\"], label=\"Class +\", c=\"green\")\n",
        "\n",
        "plt.legend()\n",
        "plt.xlabel(\"X1\")\n",
        "plt.ylabel(\"X2\")\n",
        "plt.title(\"Dataset Overview\")\n",
        "plt.show()"
      ],
      "metadata": {
        "colab": {
          "base_uri": "https://localhost:8080/",
          "height": 295
        },
        "id": "m840y9Q6zGpX",
        "outputId": "e5fc2dc2-72fb-4535-85aa-a28de0f8815c"
      },
      "execution_count": 4,
      "outputs": [
        {
          "output_type": "display_data",
          "data": {
            "text/plain": [
              "<Figure size 432x288 with 1 Axes>"
            ],
            "image/png": "[encoded data removed]"
          },
          "metadata": {
            "needs_background": "light"
          }
        }
      ]
    },
    {
      "cell_type": "code",
      "source": [
        "dataset = pd.concat([dataset_0, dataset_1], ignore_index= True)\n",
        "dataset = dataset.sample(frac=1).reset_index()\n",
        "\n",
        "# 70% train, 10% validation, 20% test\n",
        "train_dataset = dataset[:7000]\n",
        "validation_dataset = dataset[7000:8000]\n",
        "test_dataset = dataset[8000:]"
      ],
      "metadata": {
        "id": "tzvJtgAaMfav"
      },
      "execution_count": 5,
      "outputs": []
    },
    {
      "cell_type": "markdown",
      "source": [
        "# Activation Functions"
      ],
      "metadata": {
        "id": "AWeca8tUPoWX"
      }
    },
    {
      "cell_type": "code",
      "source": [
        "class ActivationFunctions():\n",
        "\n",
        "  @staticmethod\n",
        "  def sigmoid(x):\n",
        "    return 1 / (1 + math.exp(-x))\n",
        "\n",
        "  @staticmethod\n",
        "  def bipolar_sigmoid(x):\n",
        "    return (1 - math.exp(-x)) / (1 + math.exp(-x))\n",
        "\n",
        "  @staticmethod\n",
        "  def identity(x):\n",
        "    return x"
      ],
      "metadata": {
        "id": "4B-gU2J0PL6_"
      },
      "execution_count": 6,
      "outputs": []
    },
    {
      "cell_type": "markdown",
      "source": [
        "# Perceptron"
      ],
      "metadata": {
        "id": "Rnpy25B94wbf"
      }
    },
    {
      "cell_type": "code",
      "source": [
        "class Perceptron():\n",
        "  def __init__(self, w, alpha, activation_function):\n",
        "    self.w = w\n",
        "    self.alpha = alpha\n",
        "    self.activation_function = activation_function\n",
        "\n",
        "  def predict(self, X):\n",
        "    I = self.w @ np.concatenate(([1], X))\n",
        "    y = self.activation_function(I)\n",
        "    return y\n",
        "\n",
        "  def train_sample(self, X, t):\n",
        "    y = self.predict(X)\n",
        "    self.w = self.w + self.alpha * (t-y) * np.concatenate(([1], X))\n",
        "  \n",
        "  def train(self, dataset):\n",
        "    for i, data in dataset.iterrows():\n",
        "      X = data[[\"X1\", \"X2\"]].values\n",
        "      t = data[\"Y\"]\n",
        "      self.train_sample(X,t)\n",
        "\n",
        "  def show_decision_boundry(self, dataset):\n",
        "    plt.scatter(dataset[dataset[\"Y\"]==-1][\"X1\"], dataset[dataset[\"Y\"]==-1][\"X2\"], label=\"Class -\", c=\"red\")\n",
        "    plt.scatter(dataset[dataset[\"Y\"]==+1][\"X1\"], dataset[dataset[\"Y\"]==+1][\"X2\"], label=\"Class +\", c=\"green\")\n",
        "\n",
        "    x = np.linspace(-4, 12, 1000)\n",
        "    plt.plot(x, (-self.w[1]/self.w[2]*x)-self.w[0]/self.w[2], label=\"Decision Boundry\", c=\"blue\")\n",
        "\n",
        "    plt.legend()\n",
        "    plt.xlabel(\"X1\")\n",
        "    plt.ylabel(\"X2\")\n",
        "    plt.title(\"Perceptron Decision Boundary\")\n",
        "    plt.show()    "
      ],
      "metadata": {
        "id": "BGWUpOJA2JYV"
      },
      "execution_count": 8,
      "outputs": []
    },
    {
      "cell_type": "code",
      "source": [
        "#perceptron = Perceptron(w=np.zeros([3]), alpha=1, activation_function=ActivationFunctions.sigmoid)\n",
        "perceptron = Perceptron(w=np.zeros([3]), alpha=1, activation_function=ActivationFunctions.bipolar_sigmoid)"
      ],
      "metadata": {
        "id": "d7oVp64nBFew"
      },
      "execution_count": 9,
      "outputs": []
    },
    {
      "cell_type": "code",
      "source": [
        "#new_X = train_dataset.iloc[1][[\"X1\", \"X2\"]].values\n",
        "#new_t = train_dataset.iloc[1][\"Y\"]\n",
        "\n",
        "perceptron.train(train_dataset)"
      ],
      "metadata": {
        "id": "x4alLUnc9BIP"
      },
      "execution_count": 10,
      "outputs": []
    },
    {
      "cell_type": "code",
      "source": [
        "perceptron.show_decision_boundry(train_dataset)"
      ],
      "metadata": {
        "colab": {
          "base_uri": "https://localhost:8080/",
          "height": 295
        },
        "id": "DlBA3vguMOQd",
        "outputId": "3883be21-6861-4b7a-8fa0-95bf51174ea1"
      },
      "execution_count": 11,
      "outputs": [
        {
          "output_type": "display_data",
          "data": {
            "text/plain": [
              "<Figure size 432x288 with 1 Axes>"
            ],
            "image/png": "[encoded data removed]"
          },
          "metadata": {
            "needs_background": "light"
          }
        }
      ]
    },
    {
      "cell_type": "markdown",
      "source": [
        "# Adaline"
      ],
      "metadata": {
        "id": "0eRRU1zGPlgn"
      }
    },
    {
      "cell_type": "code",
      "source": [
        "class Adaline():\n",
        "  def __init__(self, w, alpha, activation_function):\n",
        "    self.w = w\n",
        "    self.alpha = alpha\n",
        "    self.activation_function = activation_function\n",
        "  \n",
        "  def linear_output(self, X):\n",
        "    I = self.w @ np.concatenate(([1], X))\n",
        "    y = self.activation_function(I)\n",
        "    return y\n",
        "\n",
        "  def bipolar_output(self, X):\n",
        "    return np.sign(self.linear_output(X))\n",
        "\n",
        "  def train_sample(self, X, t):\n",
        "    y = self.linear_output(X)\n",
        "    self.w = self.w + self.alpha * (t-y) * np.concatenate(([1], X))\n",
        "\n",
        "  def train(self, dataset):\n",
        "    for i, data in dataset.iterrows():\n",
        "      # if i%100==0 and i>0:\n",
        "      #   self.w = self.w/np.linalg.norm(self.w)\n",
        "\n",
        "      X = data[[\"X1\", \"X2\"]].values\n",
        "      t = data[\"Y\"]\n",
        "\n",
        "      self.train_sample(X,t)\n",
        "\n",
        "  def show_decision_boundry(self, dataset):\n",
        "    plt.scatter(dataset[dataset[\"Y\"]==-1][\"X1\"], dataset[dataset[\"Y\"]==-1][\"X2\"], label=\"Class -\", c=\"red\")\n",
        "    plt.scatter(dataset[dataset[\"Y\"]==+1][\"X1\"], dataset[dataset[\"Y\"]==+1][\"X2\"], label=\"Class +\", c=\"green\")\n",
        "\n",
        "    x = np.linspace(-4, 12, 1000)\n",
        "    plt.plot(x, (-self.w[1]/self.w[2]*x)-self.w[0]/self.w[2], label=\"Decision Boundry\", c=\"blue\")\n",
        "\n",
        "    plt.legend()\n",
        "    plt.xlabel(\"X1\")\n",
        "    plt.ylabel(\"X2\")\n",
        "    plt.title(\"Adaline Decision Boundary\")\n",
        "    plt.show()    "
      ],
      "metadata": {
        "id": "Bp3Ul2b3Pa--"
      },
      "execution_count": 12,
      "outputs": []
    },
    {
      "cell_type": "code",
      "source": [
        "adaline = Adaline(w=np.zeros([3]), alpha=.01, activation_function=ActivationFunctions.identity)"
      ],
      "metadata": {
        "id": "oOJU5qoWB1HD"
      },
      "execution_count": 13,
      "outputs": []
    },
    {
      "cell_type": "code",
      "source": [
        "adaline.train(train_dataset)"
      ],
      "metadata": {
        "id": "nbvYa52JEuE9"
      },
      "execution_count": 14,
      "outputs": []
    },
    {
      "cell_type": "code",
      "source": [
        "adaline.show_decision_boundry(train_dataset)"
      ],
      "metadata": {
        "colab": {
          "base_uri": "https://localhost:8080/",
          "height": 295
        },
        "id": "LW_KulfvCah9",
        "outputId": "4e037740-8a28-414b-9d6d-a96141825f74"
      },
      "execution_count": 15,
      "outputs": [
        {
          "output_type": "display_data",
          "data": {
            "text/plain": [
              "<Figure size 432x288 with 1 Axes>"
            ],
            "image/png": "[encoded data removed]"
          },
          "metadata": {
            "needs_background": "light"
          }
        }
      ]
    },
    {
      "cell_type": "markdown",
      "source": [
        "# Create Dataset"
      ],
      "metadata": {
        "id": "Th3z8ci_Ygk0"
      }
    },
    {
      "cell_type": "code",
      "source": [
        "cov = [[1, 0], [0, 1]]\n",
        "\n",
        "mean_00 = [0, 0]\n",
        "mean_01 = [0, 10] \n",
        "mean_10 = [10, 0] \n",
        "mean_11 = [10, 10] \n",
        "\n",
        "number_data_per_part = 2500"
      ],
      "metadata": {
        "id": "xPFcGna-Ywjv"
      },
      "execution_count": 25,
      "outputs": []
    },
    {
      "cell_type": "code",
      "source": [
        "dataset_00 = pd.DataFrame(np.random.multivariate_normal(mean_00, cov, number_data_per_part), columns=[\"X1\", \"X2\"])\n",
        "dataset_00[\"Y\"] = [-1] * number_data_per_part \n",
        "\n",
        "dataset_11 = pd.DataFrame(np.random.multivariate_normal(mean_11, cov, number_data_per_part), columns=[\"X1\", \"X2\"])\n",
        "dataset_11[\"Y\"] = [-1] * number_data_per_part \n",
        "\n",
        "dataset_01 = pd.DataFrame(np.random.multivariate_normal(mean_01, cov, number_data_per_part), columns=[\"X1\", \"X2\"])\n",
        "dataset_01[\"Y\"] = [+1] * number_data_per_part \n",
        "\n",
        "dataset_10 = pd.DataFrame(np.random.multivariate_normal(mean_10, cov, number_data_per_part), columns=[\"X1\", \"X2\"])\n",
        "dataset_10[\"Y\"] = [+1] * number_data_per_part "
      ],
      "metadata": {
        "id": "vFpZvkP2OyuZ"
      },
      "execution_count": 26,
      "outputs": []
    },
    {
      "cell_type": "code",
      "source": [
        "plt.scatter(dataset_00[\"X1\"].append(dataset_11[\"X1\"]), dataset_00[\"X2\"].append(dataset_11[\"X2\"]), label=\"Class -\", c=\"red\")\n",
        "plt.scatter(dataset_01[\"X1\"].append(dataset_10[\"X1\"]), dataset_01[\"X2\"].append(dataset_10[\"X2\"]), label=\"Class -\", c=\"green\")\n",
        "\n",
        "plt.legend()\n",
        "plt.xlabel(\"X1\")\n",
        "plt.ylabel(\"X2\")\n",
        "plt.title(\"Dataset Overview\")\n",
        "plt.show()"
      ],
      "metadata": {
        "colab": {
          "base_uri": "https://localhost:8080/",
          "height": 295
        },
        "id": "ihJsTSo8PWqR",
        "outputId": "3f3537e1-3d70-44ee-e80a-569ca8e6bf90"
      },
      "execution_count": 27,
      "outputs": [
        {
          "output_type": "display_data",
          "data": {
            "text/plain": [
              "<Figure size 432x288 with 1 Axes>"
            ],
            "image/png": "[encoded data removed]"
          },
          "metadata": {
            "needs_background": "light"
          }
        }
      ]
    },
    {
      "cell_type": "code",
      "source": [
        "dataset = pd.concat([dataset_00, dataset_01, dataset_10, dataset_11], ignore_index= True)\n",
        "dataset = dataset.sample(frac=1).reset_index()\n",
        "\n",
        "# 70% train, 10% validation, 20% test\n",
        "train_dataset = dataset[:7000]\n",
        "validation_dataset = dataset[7000:8000]\n",
        "test_dataset = dataset[8000:]"
      ],
      "metadata": {
        "id": "T6exXEDvPjOH"
      },
      "execution_count": 28,
      "outputs": []
    },
    {
      "cell_type": "code",
      "source": [
        ""
      ],
      "metadata": {
        "id": "z_YNyVOOQgho"
      },
      "execution_count": null,
      "outputs": []
    }
  ]
}