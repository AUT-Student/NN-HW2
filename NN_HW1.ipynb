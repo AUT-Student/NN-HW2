{
  "nbformat": 4,
  "nbformat_minor": 0,
  "metadata": {
    "colab": {
      "name": "NN-HW1.ipynb",
      "provenance": [],
      "collapsed_sections": [],
      "authorship_tag": "ABX9TyM+YKHMsH7Syg3VkxlxKyCM",
      "include_colab_link": true
    },
    "kernelspec": {
      "name": "python3",
      "display_name": "Python 3"
    },
    "language_info": {
      "name": "python"
    }
  },
  "cells": [
    {
      "cell_type": "markdown",
      "metadata": {
        "id": "view-in-github",
        "colab_type": "text"
      },
      "source": [
        "<a href=\"https://colab.research.google.com/github/AUT-Student/NN-HW2/blob/main/NN_HW1.ipynb\" target=\"_parent\"><img src=\"https://colab.research.google.com/assets/colab-badge.svg\" alt=\"Open In Colab\"/></a>"
      ]
    },
    {
      "cell_type": "markdown",
      "source": [
        "# Libraries"
      ],
      "metadata": {
        "id": "wMAlNHcELYL7"
      }
    },
    {
      "cell_type": "code",
      "execution_count": 106,
      "metadata": {
        "id": "sWxv9IqxKyHk"
      },
      "outputs": [],
      "source": [
        "import tensorflow as tf\n",
        "import numpy as np\n",
        "import pandas as pd\n",
        "import matplotlib.pyplot as plt\n",
        "import math"
      ]
    },
    {
      "cell_type": "markdown",
      "source": [
        "# Create Dataset"
      ],
      "metadata": {
        "id": "rH_gdS_cLRVK"
      }
    },
    {
      "cell_type": "code",
      "source": [
        "cov = [[1, 0], [0, 1]]\n",
        "\n",
        "mean_0 = [0,0]\n",
        "mean_1 = [6,6] \n",
        "\n",
        "number_data_per_class = 5000"
      ],
      "metadata": {
        "id": "DO0HoD9ULRE7"
      },
      "execution_count": 58,
      "outputs": []
    },
    {
      "cell_type": "code",
      "source": [
        "dataset_0 = pd.DataFrame(np.random.multivariate_normal(mean_0, cov, 5000), columns=[\"X1\", \"X2\"])\n",
        "dataset_0[\"Y\"] = [0] * 5000 \n",
        "\n",
        "dataset_1 = pd.DataFrame(np.random.multivariate_normal(mean_1, cov, 5000), columns=[\"X1\", \"X2\"])\n",
        "dataset_1[\"Y\"] = [1] * 5000 "
      ],
      "metadata": {
        "id": "7l-8nAtAMAwK"
      },
      "execution_count": 65,
      "outputs": []
    },
    {
      "cell_type": "code",
      "source": [
        "plt.scatter(dataset_0[\"X1\"], dataset_0[\"X2\"], label=\"Class 0\", c=\"green\")\n",
        "plt.scatter(dataset_1[\"X1\"], dataset_1[\"X2\"], label=\"Class 1\", c=\"red\")\n",
        "\n",
        "plt.legend()\n",
        "plt.xlabel(\"X1\")\n",
        "plt.ylabel(\"X2\")\n",
        "plt.title(\"Dataset Overview\")\n",
        "plt.show()"
      ],
      "metadata": {
        "colab": {
          "base_uri": "https://localhost:8080/",
          "height": 295
        },
        "id": "m840y9Q6zGpX",
        "outputId": "3b646109-7e0e-4171-9a7a-0e5c012ed125"
      },
      "execution_count": 89,
      "outputs": [
        {
          "output_type": "display_data",
          "data": {
            "text/plain": [
              "<Figure size 432x288 with 1 Axes>"
            ],
            "image/png": "[encoded data removed]"
          },
          "metadata": {
            "needs_background": "light"
          }
        }
      ]
    },
    {
      "cell_type": "code",
      "source": [
        "dataset = pd.concat([dataset_0, dataset_1], ignore_index= True)\n",
        "dataset = dataset.sample(frac=1).reset_index()\n",
        "\n",
        "# 70% train, 10% validation, 20% test\n",
        "train_dataset = dataset[:7000]\n",
        "validation_dataset = dataset[7000:8000]\n",
        "test_dataset = dataset[8000:]"
      ],
      "metadata": {
        "id": "tzvJtgAaMfav"
      },
      "execution_count": 80,
      "outputs": []
    },
    {
      "cell_type": "markdown",
      "source": [
        "# Perceptron"
      ],
      "metadata": {
        "id": "Rnpy25B94wbf"
      }
    },
    {
      "cell_type": "code",
      "source": [
        "class ActivationFunctions():\n",
        "\n",
        "  @staticmethod\n",
        "  def sigmoid(x):\n",
        "    return 1 / (1 + math.exp(-x))"
      ],
      "metadata": {
        "id": "4B-gU2J0PL6_"
      },
      "execution_count": 206,
      "outputs": []
    },
    {
      "cell_type": "code",
      "source": [
        "class Perceptron():\n",
        "  def __init__(self, w, alpha, activation_function):\n",
        "    self.w = w\n",
        "    self.alpha = alpha\n",
        "    self.activation_function = activation_function\n",
        "\n",
        "  def predict(self, X):\n",
        "    I = self.w @ np.concatenate(([1], X))\n",
        "    y = self.activation_function(I)\n",
        "    return y\n",
        "\n",
        "  def train_sample(self, X, t):\n",
        "    y = self.predict(X)\n",
        "    self.w = self.w + self.alpha * (t-y) * np.concatenate(([1], X))\n",
        "  \n",
        "  def train(self, dataset):\n",
        "    for i, data in dataset.iterrows():\n",
        "      X = data[[\"X1\", \"X2\"]].values\n",
        "      t = data[\"Y\"]\n",
        "      self.train_sample(X,t)\n",
        "\n",
        "  def show_decision_boundry(self, dataset):\n",
        "    plt.scatter(dataset[dataset[\"Y\"]==0][\"X1\"], dataset[dataset[\"Y\"]==0][\"X2\"], label=\"Class 0\", c=\"green\")\n",
        "    plt.scatter(dataset[dataset[\"Y\"]==1][\"X1\"], dataset[dataset[\"Y\"]==1][\"X2\"], label=\"Class 1\", c=\"red\")\n",
        "\n",
        "    x = np.linspace(-4, 10, 1000)\n",
        "    plt.plot(x, (-self.w[1]/self.w[2]*x)-self.w[0]/self.w[2], label=\"Decision Boundry\", c=\"blue\")\n",
        "\n",
        "    plt.legend()\n",
        "    plt.xlabel(\"X1\")\n",
        "    plt.ylabel(\"X2\")\n",
        "    plt.title(\"Perceptron Decision Boundary\")\n",
        "    plt.show()    "
      ],
      "metadata": {
        "id": "BGWUpOJA2JYV"
      },
      "execution_count": 207,
      "outputs": []
    },
    {
      "cell_type": "code",
      "source": [
        "p = Perceptron(w=np.zeros([2+1]), alpha=1, activation_function=ActivationFunctions.sigmoid)"
      ],
      "metadata": {
        "id": "d7oVp64nBFew"
      },
      "execution_count": 208,
      "outputs": []
    },
    {
      "cell_type": "code",
      "source": [
        "new_X = train_dataset.iloc[1][[\"X1\", \"X2\"]].values\n",
        "new_t = train_dataset.iloc[1][\"Y\"]\n",
        "\n",
        "p.train(train_dataset)"
      ],
      "metadata": {
        "id": "x4alLUnc9BIP"
      },
      "execution_count": 210,
      "outputs": []
    },
    {
      "cell_type": "code",
      "source": [
        "p.show_decision_boundry(train_dataset)"
      ],
      "metadata": {
        "colab": {
          "base_uri": "https://localhost:8080/",
          "height": 295
        },
        "id": "DlBA3vguMOQd",
        "outputId": "3c7cd8cb-09dc-41e7-bc49-c01143384043"
      },
      "execution_count": 211,
      "outputs": [
        {
          "output_type": "display_data",
          "data": {
            "text/plain": [
              "<Figure size 432x288 with 1 Axes>"
            ],
            "image/png": "[encoded data removed]"
          },
          "metadata": {
            "needs_background": "light"
          }
        }
      ]
    },
    {
      "cell_type": "code",
      "source": [
        ""
      ],
      "metadata": {
        "id": "Bp3Ul2b3Pa--"
      },
      "execution_count": null,
      "outputs": []
    }
  ]
}