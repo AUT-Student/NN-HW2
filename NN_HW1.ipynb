{
  "nbformat": 4,
  "nbformat_minor": 0,
  "metadata": {
    "colab": {
      "name": "NN-HW1.ipynb",
      "provenance": [],
      "collapsed_sections": [],
      "authorship_tag": "ABX9TyMTvFJ2i1ymoA9dqFF8ENVa",
      "include_colab_link": true
    },
    "kernelspec": {
      "name": "python3",
      "display_name": "Python 3"
    },
    "language_info": {
      "name": "python"
    }
  },
  "cells": [
    {
      "cell_type": "markdown",
      "metadata": {
        "id": "view-in-github",
        "colab_type": "text"
      },
      "source": [
        "<a href=\"https://colab.research.google.com/github/AUT-Student/NN-HW2/blob/main/NN_HW1.ipynb\" target=\"_parent\"><img src=\"https://colab.research.google.com/assets/colab-badge.svg\" alt=\"Open In Colab\"/></a>"
      ]
    },
    {
      "cell_type": "markdown",
      "source": [
        "# Libraries"
      ],
      "metadata": {
        "id": "wMAlNHcELYL7"
      }
    },
    {
      "cell_type": "code",
      "execution_count": null,
      "metadata": {
        "id": "sWxv9IqxKyHk"
      },
      "outputs": [],
      "source": [
        "import tensorflow as tf\n",
        "import numpy as np\n",
        "import pandas as pd\n",
        "import matplotlib.pyplot as plt\n",
        "import math"
      ]
    },
    {
      "cell_type": "markdown",
      "source": [
        "# Create Dataset"
      ],
      "metadata": {
        "id": "rH_gdS_cLRVK"
      }
    },
    {
      "cell_type": "code",
      "source": [
        "cov = [[1, 0], [0, 1]]\n",
        "\n",
        "mean_0 = [0,0]\n",
        "mean_1 = [6,6] \n",
        "\n",
        "number_data_per_class = 5000"
      ],
      "metadata": {
        "id": "DO0HoD9ULRE7"
      },
      "execution_count": null,
      "outputs": []
    },
    {
      "cell_type": "code",
      "source": [
        "dataset_0 = pd.DataFrame(np.random.multivariate_normal(mean_0, cov, 5000), columns=[\"X1\", \"X2\"])\n",
        "dataset_0[\"Y\"] = [0] * 5000 \n",
        "\n",
        "dataset_1 = pd.DataFrame(np.random.multivariate_normal(mean_1, cov, 5000), columns=[\"X1\", \"X2\"])\n",
        "dataset_1[\"Y\"] = [1] * 5000 "
      ],
      "metadata": {
        "id": "7l-8nAtAMAwK"
      },
      "execution_count": null,
      "outputs": []
    },
    {
      "cell_type": "code",
      "source": [
        "plt.scatter(dataset_0[\"X1\"], dataset_0[\"X2\"], label=\"Class 0\", c=\"green\")\n",
        "plt.scatter(dataset_1[\"X1\"], dataset_1[\"X2\"], label=\"Class 1\", c=\"red\")\n",
        "\n",
        "plt.legend()\n",
        "plt.xlabel(\"X1\")\n",
        "plt.ylabel(\"X2\")\n",
        "plt.title(\"Dataset Overview\")\n",
        "plt.show()"
      ],
      "metadata": {
        "colab": {
          "base_uri": "https://localhost:8080/",
          "height": 295
        },
        "id": "m840y9Q6zGpX",
        "outputId": "142b8cd7-1a6e-4c61-e610-ca53a40b333e"
      },
      "execution_count": null,
      "outputs": [
        {
          "output_type": "display_data",
          "data": {
            "text/plain": [
              "<Figure size 432x288 with 1 Axes>"
            ],
            "image/png": "[encoded data removed]"
          },
          "metadata": {
            "needs_background": "light"
          }
        }
      ]
    },
    {
      "cell_type": "code",
      "source": [
        "dataset = pd.concat([dataset_0, dataset_1], ignore_index= True)\n",
        "dataset = dataset.sample(frac=1).reset_index()\n",
        "\n",
        "# 70% train, 10% validation, 20% test\n",
        "train_dataset = dataset[:7000]\n",
        "validation_dataset = dataset[7000:8000]\n",
        "test_dataset = dataset[8000:]"
      ],
      "metadata": {
        "id": "tzvJtgAaMfav"
      },
      "execution_count": null,
      "outputs": []
    },
    {
      "cell_type": "markdown",
      "source": [
        "# Activation Functions"
      ],
      "metadata": {
        "id": "AWeca8tUPoWX"
      }
    },
    {
      "cell_type": "code",
      "source": [
        "class ActivationFunctions():\n",
        "\n",
        "  @staticmethod\n",
        "  def sigmoid(x):\n",
        "    return 1 / (1 + math.exp(-x))\n",
        "\n",
        "  @staticmethod\n",
        "  def identity(x):\n",
        "    return x"
      ],
      "metadata": {
        "id": "4B-gU2J0PL6_"
      },
      "execution_count": null,
      "outputs": []
    },
    {
      "cell_type": "markdown",
      "source": [
        "# Perceptron"
      ],
      "metadata": {
        "id": "Rnpy25B94wbf"
      }
    },
    {
      "cell_type": "code",
      "source": [
        "class Perceptron():\n",
        "  def __init__(self, w, alpha, activation_function):\n",
        "    self.w = w\n",
        "    self.alpha = alpha\n",
        "    self.activation_function = activation_function\n",
        "\n",
        "  def predict(self, X):\n",
        "    I = self.w @ np.concatenate(([1], X))\n",
        "    y = self.activation_function(I)\n",
        "    return y\n",
        "\n",
        "  def train_sample(self, X, t):\n",
        "    y = self.predict(X)\n",
        "    self.w = self.w + self.alpha * (t-y) * np.concatenate(([1], X))\n",
        "  \n",
        "  def train(self, dataset):\n",
        "    for i, data in dataset.iterrows():\n",
        "      X = data[[\"X1\", \"X2\"]].values\n",
        "      t = data[\"Y\"]\n",
        "      self.train_sample(X,t)\n",
        "\n",
        "  def show_decision_boundry(self, dataset):\n",
        "    plt.scatter(dataset[dataset[\"Y\"]==0][\"X1\"], dataset[dataset[\"Y\"]==0][\"X2\"], label=\"Class 0\", c=\"green\")\n",
        "    plt.scatter(dataset[dataset[\"Y\"]==1][\"X1\"], dataset[dataset[\"Y\"]==1][\"X2\"], label=\"Class 1\", c=\"red\")\n",
        "\n",
        "    x = np.linspace(-4, 10, 1000)\n",
        "    plt.plot(x, (-self.w[1]/self.w[2]*x)-self.w[0]/self.w[2], label=\"Decision Boundry\", c=\"blue\")\n",
        "\n",
        "    plt.legend()\n",
        "    plt.xlabel(\"X1\")\n",
        "    plt.ylabel(\"X2\")\n",
        "    plt.title(\"Perceptron Decision Boundary\")\n",
        "    plt.show()    "
      ],
      "metadata": {
        "id": "BGWUpOJA2JYV"
      },
      "execution_count": null,
      "outputs": []
    },
    {
      "cell_type": "code",
      "source": [
        "perceptron = Perceptron(w=np.zeros([3]), alpha=1, activation_function=ActivationFunctions.sigmoid)"
      ],
      "metadata": {
        "id": "d7oVp64nBFew"
      },
      "execution_count": null,
      "outputs": []
    },
    {
      "cell_type": "code",
      "source": [
        "#new_X = train_dataset.iloc[1][[\"X1\", \"X2\"]].values\n",
        "#new_t = train_dataset.iloc[1][\"Y\"]\n",
        "\n",
        "perceptron.train(train_dataset)"
      ],
      "metadata": {
        "id": "x4alLUnc9BIP"
      },
      "execution_count": null,
      "outputs": []
    },
    {
      "cell_type": "code",
      "source": [
        "perceptron.show_decision_boundry(train_dataset)"
      ],
      "metadata": {
        "colab": {
          "base_uri": "https://localhost:8080/",
          "height": 295
        },
        "id": "DlBA3vguMOQd",
        "outputId": "341fdb7e-bbe1-44fc-d99a-91ae0640238e"
      },
      "execution_count": null,
      "outputs": [
        {
          "output_type": "display_data",
          "data": {
            "text/plain": [
              "<Figure size 432x288 with 1 Axes>"
            ],
            "image/png": "[encoded data removed]"
          },
          "metadata": {
            "needs_background": "light"
          }
        }
      ]
    },
    {
      "cell_type": "markdown",
      "source": [
        "# Adaline"
      ],
      "metadata": {
        "id": "0eRRU1zGPlgn"
      }
    },
    {
      "cell_type": "code",
      "source": [
        "class Adaline():\n",
        "  def __init__(self, w, alpha, activation_function):\n",
        "    self.w = w\n",
        "    self.alpha = alpha\n",
        "    self.activation_function = activation_function\n",
        "  \n",
        "  def linear_output(self, X):\n",
        "    I = self.w @ np.concatenate(([1], X))\n",
        "    y = self.activation_function(I)\n",
        "    return y\n",
        "\n",
        "  def bipolar_output(self, X):\n",
        "    return np.sign(self.linear_output(X))\n",
        "\n",
        "  def train_sample(self, X, t):\n",
        "    y = self.linear_output(X)\n",
        "    self.w = self.w + self.alpha * (t-y) * np.concatenate(([1], X))\n",
        "  \n",
        "  def train(self, dataset):\n",
        "    for i, data in dataset.iterrows():\n",
        "      # if i%100==0 and i>0:\n",
        "      #   self.w = self.w/np.linalg.norm(self.w)\n",
        "\n",
        "      X = data[[\"X1\", \"X2\"]].values\n",
        "      t = data[\"Y\"]\n",
        "\n",
        "      self.train_sample(X,t)\n",
        "\n",
        "  def show_decision_boundry(self, dataset):\n",
        "    plt.scatter(dataset[dataset[\"Y\"]==2][\"X1\"], dataset[dataset[\"Y\"]==2][\"X2\"], label=\"Class 0\", c=\"green\")\n",
        "    plt.scatter(dataset[dataset[\"Y\"]==3][\"X1\"], dataset[dataset[\"Y\"]==3][\"X2\"], label=\"Class 1\", c=\"red\")\n",
        "\n",
        "    x = np.linspace(-4, 10, 1000)\n",
        "    plt.plot(x, (-self.w[1]/self.w[2]*x)-self.w[0]/self.w[2], label=\"Decision Boundry\", c=\"blue\")\n",
        "\n",
        "    plt.legend()\n",
        "    plt.xlabel(\"X1\")\n",
        "    plt.ylabel(\"X2\")\n",
        "    plt.title(\"Adaline Decision Boundary\")\n",
        "    plt.show()    "
      ],
      "metadata": {
        "id": "Bp3Ul2b3Pa--"
      },
      "execution_count": 129,
      "outputs": []
    },
    {
      "cell_type": "code",
      "source": [
        "adaline = Adaline(w=np.zeros([3]), alpha=.01, activation_function=ActivationFunctions.identity)"
      ],
      "metadata": {
        "id": "oOJU5qoWB1HD"
      },
      "execution_count": 156,
      "outputs": []
    },
    {
      "cell_type": "code",
      "source": [
        "adaline.train(train_dataset)"
      ],
      "metadata": {
        "id": "nbvYa52JEuE9"
      },
      "execution_count": 157,
      "outputs": []
    },
    {
      "cell_type": "code",
      "source": [
        "adaline.show_decision_boundry(train_dataset)"
      ],
      "metadata": {
        "colab": {
          "base_uri": "https://localhost:8080/",
          "height": 295
        },
        "id": "scTSywS4E1cU",
        "outputId": "16661482-da5d-452b-aa05-3a2095660990"
      },
      "execution_count": 158,
      "outputs": [
        {
          "output_type": "display_data",
          "data": {
            "text/plain": [
              "<Figure size 432x288 with 1 Axes>"
            ],
            "image/png": "[encoded data removed]"
          },
          "metadata": {
            "needs_background": "light"
          }
        }
      ]
    }
  ]
}