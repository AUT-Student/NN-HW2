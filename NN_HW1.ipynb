{
  "nbformat": 4,
  "nbformat_minor": 0,
  "metadata": {
    "colab": {
      "name": "NN-HW1.ipynb",
      "provenance": [],
      "authorship_tag": "ABX9TyOBg0qsmZO5jydXXJtEV1v5",
      "include_colab_link": true
    },
    "kernelspec": {
      "name": "python3",
      "display_name": "Python 3"
    },
    "language_info": {
      "name": "python"
    }
  },
  "cells": [
    {
      "cell_type": "markdown",
      "metadata": {
        "id": "view-in-github",
        "colab_type": "text"
      },
      "source": [
        "<a href=\"https://colab.research.google.com/github/AUT-Student/NN-HW2/blob/main/NN_HW1.ipynb\" target=\"_parent\"><img src=\"https://colab.research.google.com/assets/colab-badge.svg\" alt=\"Open In Colab\"/></a>"
      ]
    },
    {
      "cell_type": "markdown",
      "source": [
        "# Libraries"
      ],
      "metadata": {
        "id": "wMAlNHcELYL7"
      }
    },
    {
      "cell_type": "code",
      "execution_count": 7,
      "metadata": {
        "id": "sWxv9IqxKyHk"
      },
      "outputs": [],
      "source": [
        "import tensorflow as tf\n",
        "import numpy as np\n",
        "import pandas as pd\n",
        "import matplotlib.pyplot as plt"
      ]
    },
    {
      "cell_type": "markdown",
      "source": [
        "# Create Dataset"
      ],
      "metadata": {
        "id": "rH_gdS_cLRVK"
      }
    },
    {
      "cell_type": "code",
      "source": [
        "cov = [[1, 0], [0, 1]]\n",
        "\n",
        "mean_0 = [0,0]\n",
        "mean_1 = [6,6] \n",
        "\n",
        "number_data_per_class = 5000"
      ],
      "metadata": {
        "id": "DO0HoD9ULRE7"
      },
      "execution_count": 58,
      "outputs": []
    },
    {
      "cell_type": "code",
      "source": [
        "dataset_0 = pd.DataFrame(np.random.multivariate_normal(mean_0, cov, 5000), columns=[\"X1\", \"X2\"])\n",
        "dataset_0[\"Y\"] = [0] * 5000 \n",
        "\n",
        "dataset_1 = pd.DataFrame(np.random.multivariate_normal(mean_1, cov, 5000), columns=[\"X1\", \"X2\"])\n",
        "dataset_1[\"Y\"] = [1] * 5000 "
      ],
      "metadata": {
        "id": "7l-8nAtAMAwK"
      },
      "execution_count": 65,
      "outputs": []
    },
    {
      "cell_type": "code",
      "source": [
        "plt.scatter(dataset_0[\"X1\"], dataset_0[\"X2\"], label=\"Class 0\", c=\"green\")\n",
        "plt.scatter(dataset_1[\"X1\"], dataset_1[\"X2\"], label=\"Class 1\", c=\"red\")\n",
        "\n",
        "plt.legend()\n",
        "plt.xlabel(\"X1\")\n",
        "plt.ylabel(\"X2\")\n",
        "plt.title(\"Dataset Overview\")\n",
        "plt.show()"
      ],
      "metadata": {
        "colab": {
          "base_uri": "https://localhost:8080/",
          "height": 295
        },
        "id": "m840y9Q6zGpX",
        "outputId": "3b646109-7e0e-4171-9a7a-0e5c012ed125"
      },
      "execution_count": 89,
      "outputs": [
        {
          "output_type": "display_data",
          "data": {
            "text/plain": [
              "<Figure size 432x288 with 1 Axes>"
            ],
            "image/png": "[encoded data removed]"
          },
          "metadata": {
            "needs_background": "light"
          }
        }
      ]
    },
    {
      "cell_type": "code",
      "source": [
        "dataset = pd.concat([dataset_0, dataset_1], ignore_index= True)\n",
        "dataset = dataset.sample(frac=1).reset_index()\n",
        "\n",
        "# 70% train, 10% validation, 20% test\n",
        "train_dataset = dataset[:7000]\n",
        "validation_dataset = dataset[7000:8000]\n",
        "test_dataset = dataset[8000:]"
      ],
      "metadata": {
        "id": "tzvJtgAaMfav"
      },
      "execution_count": 80,
      "outputs": []
    },
    {
      "cell_type": "code",
      "source": [
        ""
      ],
      "metadata": {
        "id": "BGWUpOJA2JYV"
      },
      "execution_count": null,
      "outputs": []
    }
  ]
}